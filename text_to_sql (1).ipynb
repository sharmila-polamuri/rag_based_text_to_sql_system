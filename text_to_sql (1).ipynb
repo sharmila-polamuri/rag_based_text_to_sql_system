{
  "nbformat": 4,
  "nbformat_minor": 0,
  "metadata": {
    "colab": {
      "provenance": []
    },
    "kernelspec": {
      "name": "python3",
      "display_name": "Python 3"
    },
    "language_info": {
      "name": "python"
    }
  },
  "cells": [
    {
      "cell_type": "markdown",
      "source": [
        "## Create SQLite DB inside Colab"
      ],
      "metadata": {
        "id": "8YntMl-ufmmd"
      }
    },
    {
      "cell_type": "code",
      "source": [
        "# =========================\n",
        "# Setup (Colab)\n",
        "# =========================\n",
        "!pip -q install langchain langchain-community langchain-experimental openai python-dotenv pandas tabulate sqlglot chromadb langchain-openai\n",
        "\n",
        "import os, re, json, sqlite3, textwrap, warnings\n",
        "warnings.filterwarnings(\"ignore\")\n",
        "\n",
        "import pandas as pd\n",
        "from tabulate import tabulate\n",
        "import re\n",
        "\n",
        "# LangChain / OpenAI\n",
        "from langchain_openai import ChatOpenAI\n",
        "from langchain_community.utilities import SQLDatabase\n",
        "from langchain.agents import initialize_agent, Tool\n",
        "from langchain_experimental.sql import SQLDatabaseChain\n",
        "from langchain_community.embeddings import HuggingFaceEmbeddings\n",
        "from langchain_community.vectorstores import Chroma\n",
        "from langchain.agents import AgentType"
      ],
      "metadata": {
        "id": "f4uL9nEdkDiw"
      },
      "execution_count": 121,
      "outputs": []
    },
    {
      "cell_type": "code",
      "source": [
        "os.environ[\"OPENAI_API_KEY\"] = 'sk-proj-'"
      ],
      "metadata": {
        "id": "bCAYr1EakFnD"
      },
      "execution_count": 122,
      "outputs": []
    },
    {
      "cell_type": "code",
      "source": [
        "db_path = \"sales.db\"\n",
        "# table_name_input = input(\"SQLite table name (leave blank to auto from filename): \").strip()\n",
        "table_name_input = 'sales'\n",
        "table_name = table_name_input if table_name_input else re.sub(r\"[^a-zA-Z0-9_]\", \"_\", os.path.splitext(os.path.basename(csv_path))[0])\n"
      ],
      "metadata": {
        "id": "XjB6cMnokZ4e"
      },
      "execution_count": 123,
      "outputs": []
    },
    {
      "cell_type": "code",
      "source": [
        "# Load CSV\n",
        "csv_path = '/content/sales_data_sample.csv'\n",
        "df = pd.read_csv(csv_path, encoding='latin1')"
      ],
      "metadata": {
        "id": "HAArn6OskkFd"
      },
      "execution_count": 124,
      "outputs": []
    },
    {
      "cell_type": "code",
      "source": [
        "# Create SQLite DB\n",
        "conn = sqlite3.connect(db_path)\n",
        "df.to_sql(table_name, conn, if_exists=\"replace\", index=False)\n",
        "conn.commit()"
      ],
      "metadata": {
        "id": "pDkxSsmHk1Bx"
      },
      "execution_count": 125,
      "outputs": []
    },
    {
      "cell_type": "code",
      "source": [
        "\n",
        "print(f\"\\n Loaded CSV into SQLite → {db_path}, table: {table_name}\")\n",
        "print(\"Sample rows:\")\n",
        "print(tabulate(df.head(5), headers=\"keys\", tablefmt=\"github\"))"
      ],
      "metadata": {
        "colab": {
          "base_uri": "https://localhost:8080/"
        },
        "id": "1DD3CFEbk7hN",
        "outputId": "315a21e3-e476-4bfc-e49f-e15f6e659fa9"
      },
      "execution_count": 126,
      "outputs": [
        {
          "output_type": "stream",
          "name": "stdout",
          "text": [
            "\n",
            " Loaded CSV into SQLite → sales.db, table: sales\n",
            "Sample rows:\n",
            "|    |   ORDERNUMBER |   QUANTITYORDERED |   PRICEEACH |   ORDERLINENUMBER |   SALES | ORDERDATE       | STATUS   |   QTR_ID |   MONTH_ID |   YEAR_ID | PRODUCTLINE   |   MSRP | PRODUCTCODE   | CUSTOMERNAME             | PHONE            | ADDRESSLINE1                  |   ADDRESSLINE2 | CITY          | STATE   |   POSTALCODE | COUNTRY   | TERRITORY   | CONTACTLASTNAME   | CONTACTFIRSTNAME   | DEALSIZE   |\n",
            "|----|---------------|-------------------|-------------|-------------------|---------|-----------------|----------|----------|------------|-----------|---------------|--------|---------------|--------------------------|------------------|-------------------------------|----------------|---------------|---------|--------------|-----------|-------------|-------------------|--------------------|------------|\n",
            "|  0 |         10107 |                30 |       95.7  |                 2 | 2871    | 2/24/2003 0:00  | Shipped  |        1 |          2 |      2003 | Motorcycles   |     95 | S10_1678      | Land of Toys Inc.        | 2125557818       | 897 Long Airport Avenue       |            nan | NYC           | NY      |        10022 | USA       | nan         | Yu                | Kwai               | Small      |\n",
            "|  1 |         10121 |                34 |       81.35 |                 5 | 2765.9  | 5/7/2003 0:00   | Shipped  |        2 |          5 |      2003 | Motorcycles   |     95 | S10_1678      | Reims Collectables       | 26.47.1555       | 59 rue de l'Abbaye            |            nan | Reims         | nan     |        51100 | France    | EMEA        | Henriot           | Paul               | Small      |\n",
            "|  2 |         10134 |                41 |       94.74 |                 2 | 3884.34 | 7/1/2003 0:00   | Shipped  |        3 |          7 |      2003 | Motorcycles   |     95 | S10_1678      | Lyon Souveniers          | +33 1 46 62 7555 | 27 rue du Colonel Pierre Avia |            nan | Paris         | nan     |        75508 | France    | EMEA        | Da Cunha          | Daniel             | Medium     |\n",
            "|  3 |         10145 |                45 |       83.26 |                 6 | 3746.7  | 8/25/2003 0:00  | Shipped  |        3 |          8 |      2003 | Motorcycles   |     95 | S10_1678      | Toys4GrownUps.com        | 6265557265       | 78934 Hillside Dr.            |            nan | Pasadena      | CA      |        90003 | USA       | nan         | Young             | Julie              | Medium     |\n",
            "|  4 |         10159 |                49 |      100    |                14 | 5205.27 | 10/10/2003 0:00 | Shipped  |        4 |         10 |      2003 | Motorcycles   |     95 | S10_1678      | Corporate Gift Ideas Co. | 6505551386       | 7734 Strong St.               |            nan | San Francisco | CA      |          nan | USA       | nan         | Brown             | Julie              | Medium     |\n"
          ]
        }
      ]
    },
    {
      "cell_type": "code",
      "source": [
        "#  Build SQL Utilities\n",
        "# =========================\n",
        "db_uri = f\"sqlite:///{db_path}\"\n",
        "db = SQLDatabase.from_uri(db_uri)"
      ],
      "metadata": {
        "id": "q4r21uEklBmN"
      },
      "execution_count": 127,
      "outputs": []
    },
    {
      "cell_type": "code",
      "source": [
        "def fetch_schema_text() -> str:\n",
        "    # Compact schema, plus a few sample values as \"data dictionary\"\n",
        "    with sqlite3.connect(db_path) as c:\n",
        "        cur = c.cursor()\n",
        "        cur.execute(f'PRAGMA table_info(\"{table_name}\")')\n",
        "        cols = cur.fetchall()\n",
        "    lines = [f\"CREATE TABLE {table_name} (\"]\n",
        "    for cid, name, coltype, notnull, default, pk in cols:\n",
        "        lines.append(f\"  {name} {coltype or ''} {'NOT NULL' if notnull else ''} {'PRIMARY KEY' if pk else ''}\")\n",
        "    lines.append(\");\")\n",
        "\n",
        "    # Sample values for each column to help disambiguate\n",
        "    dd_lines = [\"\\n-- Data Dictionary (sample values) --\"]\n",
        "    with sqlite3.connect(db_path) as c:\n",
        "        for name, dtype in zip(df.columns, df.dtypes):\n",
        "            try:\n",
        "                vals = pd.read_sql(f'SELECT \"{name}\" AS v FROM \"{table_name}\" WHERE \"{name}\" IS NOT NULL LIMIT 5;', c)[\"v\"].tolist()\n",
        "            except Exception:\n",
        "                vals = []\n",
        "            dd_lines.append(f\"{name} ({str(dtype)}): examples -> {vals}\")\n",
        "    return \"\\n\".join(lines + dd_lines)\n",
        "\n",
        "SCHEMA_TEXT = fetch_schema_text()"
      ],
      "metadata": {
        "id": "0_CnJ9zb8nbt"
      },
      "execution_count": 128,
      "outputs": []
    },
    {
      "cell_type": "code",
      "source": [
        "SCHEMA_TEXT"
      ],
      "metadata": {
        "colab": {
          "base_uri": "https://localhost:8080/",
          "height": 174
        },
        "id": "wcUulfA88pia",
        "outputId": "7eed6a38-1a34-4a5c-ee88-0b216bb3a43c"
      },
      "execution_count": 129,
      "outputs": [
        {
          "output_type": "execute_result",
          "data": {
            "text/plain": [
              "'CREATE TABLE sales (\\n  ORDERNUMBER INTEGER  \\n  QUANTITYORDERED INTEGER  \\n  PRICEEACH REAL  \\n  ORDERLINENUMBER INTEGER  \\n  SALES REAL  \\n  ORDERDATE TEXT  \\n  STATUS TEXT  \\n  QTR_ID INTEGER  \\n  MONTH_ID INTEGER  \\n  YEAR_ID INTEGER  \\n  PRODUCTLINE TEXT  \\n  MSRP INTEGER  \\n  PRODUCTCODE TEXT  \\n  CUSTOMERNAME TEXT  \\n  PHONE TEXT  \\n  ADDRESSLINE1 TEXT  \\n  ADDRESSLINE2 TEXT  \\n  CITY TEXT  \\n  STATE TEXT  \\n  POSTALCODE TEXT  \\n  COUNTRY TEXT  \\n  TERRITORY TEXT  \\n  CONTACTLASTNAME TEXT  \\n  CONTACTFIRSTNAME TEXT  \\n  DEALSIZE TEXT  \\n);\\n\\n-- Data Dictionary (sample values) --\\nORDERNUMBER (int64): examples -> [10107, 10121, 10134, 10145, 10159]\\nQUANTITYORDERED (int64): examples -> [30, 34, 41, 45, 49]\\nPRICEEACH (float64): examples -> [95.7, 81.35, 94.74, 83.26, 100.0]\\nORDERLINENUMBER (int64): examples -> [2, 5, 2, 6, 14]\\nSALES (float64): examples -> [2871.0, 2765.9, 3884.34, 3746.7, 5205.27]\\nORDERDATE (object): examples -> [\\'2/24/2003 0:00\\', \\'5/7/2003 0:00\\', \\'7/1/2003 0:00\\', \\'8/25/2003 0:00\\', \\'10/10/2003 0:00\\']\\nSTATUS (object): examples -> [\\'Shipped\\', \\'Shipped\\', \\'Shipped\\', \\'Shipped\\', \\'Shipped\\']\\nQTR_ID (int64): examples -> [1, 2, 3, 3, 4]\\nMONTH_ID (int64): examples -> [2, 5, 7, 8, 10]\\nYEAR_ID (int64): examples -> [2003, 2003, 2003, 2003, 2003]\\nPRODUCTLINE (object): examples -> [\\'Motorcycles\\', \\'Motorcycles\\', \\'Motorcycles\\', \\'Motorcycles\\', \\'Motorcycles\\']\\nMSRP (int64): examples -> [95, 95, 95, 95, 95]\\nPRODUCTCODE (object): examples -> [\\'S10_1678\\', \\'S10_1678\\', \\'S10_1678\\', \\'S10_1678\\', \\'S10_1678\\']\\nCUSTOMERNAME (object): examples -> [\\'Land of Toys Inc.\\', \\'Reims Collectables\\', \\'Lyon Souveniers\\', \\'Toys4GrownUps.com\\', \\'Corporate Gift Ideas Co.\\']\\nPHONE (object): examples -> [\\'2125557818\\', \\'26.47.1555\\', \\'+33 1 46 62 7555\\', \\'6265557265\\', \\'6505551386\\']\\nADDRESSLINE1 (object): examples -> [\\'897 Long Airport Avenue\\', \"59 rue de l\\'Abbaye\", \\'27 rue du Colonel Pierre Avia\\', \\'78934 Hillside Dr.\\', \\'7734 Strong St.\\']\\nADDRESSLINE2 (object): examples -> [\\'Level 3\\', \\'Suite 101\\', \\'Level 6\\', \\'Suite 750\\', \\'Level 6\\']\\nCITY (object): examples -> [\\'NYC\\', \\'Reims\\', \\'Paris\\', \\'Pasadena\\', \\'San Francisco\\']\\nSTATE (object): examples -> [\\'NY\\', \\'CA\\', \\'CA\\', \\'CA\\', \\'CA\\']\\nPOSTALCODE (object): examples -> [\\'10022\\', \\'51100\\', \\'75508\\', \\'90003\\', \\'94217\\']\\nCOUNTRY (object): examples -> [\\'USA\\', \\'France\\', \\'France\\', \\'USA\\', \\'USA\\']\\nTERRITORY (object): examples -> [\\'EMEA\\', \\'EMEA\\', \\'EMEA\\', \\'EMEA\\', \\'EMEA\\']\\nCONTACTLASTNAME (object): examples -> [\\'Yu\\', \\'Henriot\\', \\'Da Cunha\\', \\'Young\\', \\'Brown\\']\\nCONTACTFIRSTNAME (object): examples -> [\\'Kwai\\', \\'Paul\\', \\'Daniel\\', \\'Julie\\', \\'Julie\\']\\nDEALSIZE (object): examples -> [\\'Small\\', \\'Small\\', \\'Medium\\', \\'Medium\\', \\'Medium\\']'"
            ],
            "application/vnd.google.colaboratory.intrinsic+json": {
              "type": "string"
            }
          },
          "metadata": {},
          "execution_count": 129
        }
      ]
    },
    {
      "cell_type": "code",
      "source": [
        "# Some seed example queries to help RAG (few-shot)\n",
        "EXAMPLE_SQLS = [\n",
        "    (\"Total revenue by product code (top 5)\",\n",
        "     f'SELECT PRODUCTCODE, SUM(SALES) AS total_revenue FROM {table_name} GROUP BY PRODUCTCODE ORDER BY total_revenue DESC LIMIT 5;'),\n",
        "    (\"Revenue by year\",\n",
        "     f'SELECT YEAR_ID, SUM(SALES) AS total_revenue FROM {table_name} GROUP BY YEAR_ID ORDER BY YEAR_ID;'),\n",
        "    (\"Top 5 customers by spend\",\n",
        "     f'SELECT CUSTOMERNAME, SUM(SALES) AS total_spend FROM {table_name} GROUP BY CUSTOMERNAME ORDER BY total_spend DESC LIMIT 5;'),\n",
        "    (\"Monthly revenue trend for 2004\",\n",
        "     f'SELECT MONTH_ID, SUM(SALES) AS total_revenue FROM {table_name} WHERE YEAR_ID=2004 GROUP BY MONTH_ID ORDER BY MONTH_ID;'),\n",
        "    (\"Average order value by country\",\n",
        "     f'SELECT COUNTRY, AVG(SALES) AS avg_order FROM {table_name} GROUP BY COUNTRY ORDER BY avg_order DESC;'),\n",
        "]"
      ],
      "metadata": {
        "id": "hHMYDK2P8tou"
      },
      "execution_count": 130,
      "outputs": []
    },
    {
      "cell_type": "code",
      "source": [
        "#  Build RAG index (schema + data dict + examples)\n",
        "# =========================\n",
        "emb = HuggingFaceEmbeddings(model_name=\"sentence-transformers/all-MiniLM-L6-v2\")\n",
        "\n",
        "rag_texts = [SCHEMA_TEXT] + [f\"Example: {title}\\n{sql}\" for title, sql in EXAMPLE_SQLS]\n",
        "rag_metadatas = [{\"type\": \"schema\"}] + [{\"type\": \"example\", \"title\": t} for t,_ in EXAMPLE_SQLS]\n",
        "\n",
        "vectordb = Chroma.from_texts(texts=rag_texts, embedding=emb, metadatas=rag_metadatas)\n",
        "retriever = vectordb.as_retriever(search_kwargs={\"k\": 4})"
      ],
      "metadata": {
        "id": "2fNLaO9V8yd6"
      },
      "execution_count": 131,
      "outputs": []
    },
    {
      "cell_type": "code",
      "source": [
        "def strip_sql_fences(s: str) -> str:\n",
        "    print(f\"strip_sql_fences :- \")\n",
        "    print(f\" S Before :- {s}\")\n",
        "    if not isinstance(s, str):\n",
        "        return s\n",
        "    s = s.strip()\n",
        "    s = re.sub(r\"^```(?:sql)?\\s*\", \"\", s, flags=re.IGNORECASE)\n",
        "    s = re.sub(r\"\\s*```$\", \"\", s)\n",
        "    # Remove wrapping backticks (` ... `)\n",
        "    if s.startswith(\"`\") and s.endswith(\"`\"):\n",
        "        s = s[1:-1].strip()\n",
        "\n",
        "    print(f\" S After :- {s}\")\n",
        "    print(s.rstrip(\"; \") + \";\")\n",
        "    return s.rstrip(\"; \") + \";\"\n",
        "    # return s.strip(\" ;\") + \";\"\n",
        "\n",
        "def safe_sql(sql: str) -> tuple[bool, str]:\n",
        "    banned = [\"DROP \", \"DELETE \", \"UPDATE \", \"INSERT \", \"ALTER \", \"TRUNCATE \", \"ATTACH \", \"DETACH \", \"REPLACE \"]\n",
        "    up = re.sub(r\"\\s+\", \" \", (sql or \"\").upper() + \" \")\n",
        "    for b in banned:\n",
        "        if b in up:\n",
        "            return False, f\"Blocked potentially destructive SQL: {b.strip()}\"\n",
        "    if not re.match(r\"(?is)^\\s*SELECT\\b\", sql or \"\"):\n",
        "        return False, \"Only SELECT statements are allowed.\"\n",
        "    return True, \"\""
      ],
      "metadata": {
        "id": "NjvX_GWbD4p7"
      },
      "execution_count": 132,
      "outputs": []
    },
    {
      "cell_type": "code",
      "source": [
        "# =========================\n",
        "#  Tools for the Agent\n",
        "# =========================\n",
        "def get_schema_tool(_: str = \"\") -> str:\n",
        "    return SCHEMA_TEXT\n",
        "\n",
        "def sample_rows_tool(table: str) -> str:\n",
        "    print(f\"************ sample_rows_tool **********\")\n",
        "    \"\"\"\n",
        "    Return a small sample of a table. Agent can call with a table name guess.\n",
        "    \"\"\"\n",
        "    try:\n",
        "        q = f'SELECT * FROM \"{table}\" LIMIT 5;'\n",
        "        with sqlite3.connect(db_path) as c:\n",
        "            sdf = pd.read_sql(q, c)\n",
        "        return tabulate(sdf, headers=\"keys\", tablefmt=\"github\")\n",
        "    except Exception as e:\n",
        "        return f\"[sample_rows_tool] error: {e}\"\n",
        "\n",
        "def safe_sql(sql: str) -> tuple[bool, str]:\n",
        "    print(f\"************ safe_sql **********\")\n",
        "    \"\"\"\n",
        "    Primitive safety: block mutating / dangerous statements.\n",
        "    \"\"\"\n",
        "    banned = [\"DROP \", \"DELETE \", \"UPDATE \", \"INSERT \", \"ALTER \", \"TRUNCATE \", \"ATTACH \", \"DETACH \"]\n",
        "    sql_upper = re.sub(r\"\\s+\", \" \", sql.upper() + \" \")\n",
        "    for b in banned:\n",
        "        if b in sql_upper:\n",
        "            return False, f\"Blocked potentially destructive SQL: {b.strip()}\"\n",
        "    return True, \"\"\n",
        "\n",
        "def run_sql_tool(sql: str) -> str:\n",
        "    sql = strip_sql_fences(sql or \"\")\n",
        "    ok, why = safe_sql(sql)\n",
        "    if not ok:\n",
        "        return f\"[SQL BLOCKED] {why}\\nSQL: {sql}\"\n",
        "    try:\n",
        "        with sqlite3.connect(db_path) as c:\n",
        "            out = pd.read_sql(sql, c)\n",
        "        pretty = tabulate(out.head(25), headers=\"keys\", tablefmt=\"github\")\n",
        "        return f\"SQL_OK\\nROWS={len(out)}\\n\\n{pretty}\"\n",
        "    except Exception as e:\n",
        "        return f\"[SQL ERROR] {e}\\nSQL: {sql}\"\n",
        "\n",
        "def explain_sql_tool(sql: str) -> str:\n",
        "    print(f\"************ explain_sql_tool **********\")\n",
        "    \"\"\"\n",
        "    Use SQLGlot to parse & reformat SQL; return pretty SQL and simple parse feedback.\n",
        "    \"\"\"\n",
        "    from sqlglot import parse_one\n",
        "    try:\n",
        "        ast = parse_one(sql)\n",
        "        formatted = ast.sql(pretty=True)\n",
        "        return f\"Formatted SQL:\\n{formatted}\"\n",
        "    except Exception as e:\n",
        "        return f\"[explain_sql_tool] Could not parse: {e}\"\n"
      ],
      "metadata": {
        "id": "Xx_0lHNclKE9"
      },
      "execution_count": 133,
      "outputs": []
    },
    {
      "cell_type": "code",
      "source": [
        "GENERATOR_SYSTEM = \"\"\"You are a Text-to-SQL generator for a SQLite database.\n",
        "Rules:\n",
        "- Use ONLY tables/columns that exist in the provided schema context.\n",
        "- Prefer simple, correct SQL.\n",
        "- For large results, include LIMIT.\n",
        "- Return ONLY raw SQL (no explanations, no markdown, no ``` fences).\n",
        "- Only SELECT statements are allowed.\n",
        "\"\"\"\n",
        "\n",
        "def generate_sql_tool(question: str) -> str:\n",
        "    context = retrieve_context(question)\n",
        "    prompt = f\"\"\"{GENERATOR_SYSTEM}\n",
        "    # Schema & Examples (retrieved via RAG)\n",
        "    {context}\n",
        "\n",
        "    # Task\n",
        "    User question: {question}\n",
        "\n",
        "    # Return ONLY the SQL SELECT needed to answer the question. No text, no markdown.\n",
        "    \"\"\"\n",
        "    sql = llm.predict(prompt)\n",
        "    return strip_sql_fences(sql)"
      ],
      "metadata": {
        "id": "Vp72a2oWruZ4"
      },
      "execution_count": 134,
      "outputs": []
    },
    {
      "cell_type": "code",
      "source": [
        "\n",
        "# =========================\n",
        "#  LLM + Base SQL Chain\n",
        "# =========================\n",
        "# Low temperature for determinism\n",
        "llm = ChatOpenAI(model=\"gpt-4o-mini\", temperature=0)  # swap to 'gpt-4o'/'gpt-4.1' if available"
      ],
      "metadata": {
        "id": "Ziq9OiJblOTa"
      },
      "execution_count": 135,
      "outputs": []
    },
    {
      "cell_type": "code",
      "source": [
        "sql_chain = SQLDatabaseChain.from_llm(\n",
        "    llm=llm,\n",
        "    db=db,\n",
        "    verbose=True,\n",
        "    top_k=5,               # limit rows when probing\n",
        "    use_query_checker=True # adds an internal SQL safety/check pass\n",
        ")"
      ],
      "metadata": {
        "id": "dKcOLkWrlT7X"
      },
      "execution_count": 136,
      "outputs": []
    },
    {
      "cell_type": "code",
      "source": [
        "\n",
        "# =========================\n",
        "#  Tool: RAG Retriever\n",
        "# =========================\n",
        "def retrieve_context(question: str) -> str:\n",
        "    docs = retriever.get_relevant_documents(question)\n",
        "    chunks = []\n",
        "    for d in docs:\n",
        "        meta = d.metadata.get(\"type\",\"\")\n",
        "        title = d.metadata.get(\"title\",\"\")\n",
        "        header = f\"[{meta.upper()}] {title}\" if title else f\"[{meta.upper()}]\"\n",
        "        chunks.append(header + \"\\n\" + d.page_content)\n",
        "    return \"\\n\\n---\\n\\n\".join(chunks)"
      ],
      "metadata": {
        "id": "MI2TXr2f-AuU"
      },
      "execution_count": 137,
      "outputs": []
    },
    {
      "cell_type": "code",
      "source": [
        "#   Tools for the Agent\n",
        "# =========================\n",
        "tools = [\n",
        "    Tool(\n",
        "        name=\"GetSchema\",\n",
        "        func=get_schema_tool,\n",
        "        description=(\n",
        "            \"Use to understand available tables, columns, and types. \"\n",
        "            \"Call BEFORE writing SQL and again if you are unsure.\"\n",
        "        ),\n",
        "    ),\n",
        "    Tool(\n",
        "        name=\"RetrieveContext\",\n",
        "        func=retrieve_context,\n",
        "        description=\"Retrieve RAG context (schema snippets & example SQLs) for a question.\"\n",
        "    ),\n",
        "    Tool(\n",
        "        name=\"SampleRows\",\n",
        "        func=sample_rows_tool,\n",
        "        description=(\n",
        "            \"Use to peek at example rows for a given table name. \"\n",
        "            \"Input should be exactly the table name (string).\"\n",
        "        ),\n",
        "    ),\n",
        "    Tool(\n",
        "        name=\"GenerateSQL\",\n",
        "        func=generate_sql_tool,\n",
        "        description=(\n",
        "            \"Generate and (optionally) execute a SQL query to answer a question. \"\n",
        "            \"Always verify columns/tables exist using GetSchema first. Returns results or error.\"\n",
        "        ),\n",
        "    ),\n",
        "    Tool(\n",
        "        name=\"RunSQL\",\n",
        "        func=run_sql_tool,\n",
        "        description=(\n",
        "            \"Execute a SQL SELECT statement and return results. \"\n",
        "            \"Only SELECT queries are permitted.\"\n",
        "        ),\n",
        "    ),\n",
        "    Tool(\n",
        "        name=\"ExplainSQL\",\n",
        "        func=explain_sql_tool,\n",
        "        description=\"Pretty-print and sanity-check a SQL string.\",\n",
        "    ),\n",
        "]"
      ],
      "metadata": {
        "id": "xqcI6R9Dlbcw"
      },
      "execution_count": 138,
      "outputs": []
    },
    {
      "cell_type": "code",
      "source": [
        "# =========================\n",
        "#  Agent Initialization\n",
        "# =========================\n",
        "\n",
        "\n",
        "agent = initialize_agent(\n",
        "    tools=tools,\n",
        "    llm=llm,\n",
        "    agent=AgentType.ZERO_SHOT_REACT_DESCRIPTION,  # ReAct-style planning with tools\n",
        "    verbose=True,\n",
        "    max_iterations=6,\n",
        "    handle_parsing_errors=True,\n",
        ")"
      ],
      "metadata": {
        "id": "JAarUSoZliZE"
      },
      "execution_count": 139,
      "outputs": []
    },
    {
      "cell_type": "code",
      "source": [
        "# =========================\n",
        "#  Helper: Ask function (with auto-retry & visibility)\n",
        "# =========================\n",
        "SYSTEM_HINT = f\"\"\"\n",
        "You are a careful Text-to-SQL assistant over a SQLite database at {db_path}.\n",
        "Available table(s) include: {table_name}.\n",
        "Rules:\n",
        "- ALWAYS call GetSchema first.\n",
        "- Validate table and column names before generating SQL.\n",
        "- Prefer simple, correct SQL (LIMIT when results could be large).\n",
        "- If a SQL fails, fix and retry at most twice using tool feedback.\n",
        "- Return BOTH: (1) the final SQL, (2) a concise answer summary.\n",
        "- NEVER run non-SELECT statements.\n",
        "\"\"\""
      ],
      "metadata": {
        "id": "5-omuBVblp0x"
      },
      "execution_count": 140,
      "outputs": []
    },
    {
      "cell_type": "code",
      "source": [
        "\n",
        "def ask(nl_question: str) -> dict:\n",
        "    prompt = f\"\"\"\n",
        "{SYSTEM_HINT}\n",
        "\n",
        "User question: {nl_question}\n",
        "\n",
        "Return JSON with fields:\n",
        "- \"sql\": the final SQL you would run\n",
        "- \"tool_to_use\": \"RunSQL\" (preferred) or \"GenerateSQL\"\n",
        "- \"notes\": brief reasoning\n",
        "Then call the tool to execute. After execution, summarize the answer.\n",
        "\"\"\"\n",
        "    print(\"\\n====================\")\n",
        "    print(\"🔎 QUESTION:\", nl_question)\n",
        "    print(\"====================\\n\")\n",
        "\n",
        "    # First attempt\n",
        "    result = agent.run(prompt)\n",
        "\n",
        "    # Very light post-processing: if the agent didn't include SQL, try to elicit with ExplainSQL\n",
        "    if \"SELECT\" not in result and \"sql\" not in result.lower():\n",
        "        _ = agent.run(f\"User asked: {nl_question}\\nPlease produce the exact SELECT SQL only.\")\n",
        "        # (We leave result as-is; the verbose=True trace shows the tool calls.)\n",
        "\n",
        "    print(\"\\n--- Agent Final Output ---\")\n",
        "    print(result)\n",
        "    return {\"raw\": result}"
      ],
      "metadata": {
        "id": "oCX1K3KJlxBS"
      },
      "execution_count": 141,
      "outputs": []
    },
    {
      "cell_type": "code",
      "source": [
        "#  Demo Queries (edit these)\n",
        "# =========================\n",
        "print(\"\\nYou can now ask questions! Examples:\")\n",
        "print(f' - \"Show 5 random rows from {table_name}.\"')\n",
        "print(' - \"Top 5 products by total revenue.\" (assuming columns like Product, Quantity, Price)')\n",
        "print(' - \"Count of rows by Region and Year.\" (adjust to your schema)\\n')\n"
      ],
      "metadata": {
        "colab": {
          "base_uri": "https://localhost:8080/"
        },
        "id": "VDwRAU_2l1zH",
        "outputId": "dea88b4f-45d5-4e33-b011-f1962cd76c74"
      },
      "execution_count": 142,
      "outputs": [
        {
          "output_type": "stream",
          "name": "stdout",
          "text": [
            "\n",
            "You can now ask questions! Examples:\n",
            " - \"Show 5 random rows from sales.\"\n",
            " - \"Top 5 products by total revenue.\" (assuming columns like Product, Quantity, Price)\n",
            " - \"Count of rows by Region and Year.\" (adjust to your schema)\n",
            "\n"
          ]
        }
      ]
    },
    {
      "cell_type": "code",
      "source": [
        "\n",
        "while True:\n",
        "    q = input(\"Ask (or 'quit'): \").strip()\n",
        "    if q.lower() in {\"q\", \"quit\", \"exit\"}:\n",
        "        print(\"Bye! 👋\")\n",
        "        break\n",
        "    try:\n",
        "        _ = ask(q)\n",
        "    except Exception as e:\n",
        "        print(\"Error:\", e)"
      ],
      "metadata": {
        "colab": {
          "base_uri": "https://localhost:8080/"
        },
        "id": "Ng_zsKxkl6j6",
        "outputId": "94f5f412-f937-4322-b78c-83334e1f3f48"
      },
      "execution_count": 143,
      "outputs": [
        {
          "output_type": "stream",
          "name": "stdout",
          "text": [
            "Ask (or 'quit'): Show 5 random rows from sales\n",
            "\n",
            "====================\n",
            "🔎 QUESTION: Show 5 random rows from sales\n",
            "====================\n",
            "\n",
            "\n",
            "\n",
            "\u001b[1m> Entering new AgentExecutor chain...\u001b[0m\n",
            "\u001b[32;1m\u001b[1;3mI need to start by checking the schema of the database to understand the structure of the \"sales\" table and its columns. This will help me ensure that I can write a correct SQL query to retrieve 5 random rows.\n",
            "\n",
            "Action: GetSchema  \n",
            "Action Input: ''  \u001b[0m\n",
            "Observation: \u001b[36;1m\u001b[1;3mCREATE TABLE sales (\n",
            "  ORDERNUMBER INTEGER  \n",
            "  QUANTITYORDERED INTEGER  \n",
            "  PRICEEACH REAL  \n",
            "  ORDERLINENUMBER INTEGER  \n",
            "  SALES REAL  \n",
            "  ORDERDATE TEXT  \n",
            "  STATUS TEXT  \n",
            "  QTR_ID INTEGER  \n",
            "  MONTH_ID INTEGER  \n",
            "  YEAR_ID INTEGER  \n",
            "  PRODUCTLINE TEXT  \n",
            "  MSRP INTEGER  \n",
            "  PRODUCTCODE TEXT  \n",
            "  CUSTOMERNAME TEXT  \n",
            "  PHONE TEXT  \n",
            "  ADDRESSLINE1 TEXT  \n",
            "  ADDRESSLINE2 TEXT  \n",
            "  CITY TEXT  \n",
            "  STATE TEXT  \n",
            "  POSTALCODE TEXT  \n",
            "  COUNTRY TEXT  \n",
            "  TERRITORY TEXT  \n",
            "  CONTACTLASTNAME TEXT  \n",
            "  CONTACTFIRSTNAME TEXT  \n",
            "  DEALSIZE TEXT  \n",
            ");\n",
            "\n",
            "-- Data Dictionary (sample values) --\n",
            "ORDERNUMBER (int64): examples -> [10107, 10121, 10134, 10145, 10159]\n",
            "QUANTITYORDERED (int64): examples -> [30, 34, 41, 45, 49]\n",
            "PRICEEACH (float64): examples -> [95.7, 81.35, 94.74, 83.26, 100.0]\n",
            "ORDERLINENUMBER (int64): examples -> [2, 5, 2, 6, 14]\n",
            "SALES (float64): examples -> [2871.0, 2765.9, 3884.34, 3746.7, 5205.27]\n",
            "ORDERDATE (object): examples -> ['2/24/2003 0:00', '5/7/2003 0:00', '7/1/2003 0:00', '8/25/2003 0:00', '10/10/2003 0:00']\n",
            "STATUS (object): examples -> ['Shipped', 'Shipped', 'Shipped', 'Shipped', 'Shipped']\n",
            "QTR_ID (int64): examples -> [1, 2, 3, 3, 4]\n",
            "MONTH_ID (int64): examples -> [2, 5, 7, 8, 10]\n",
            "YEAR_ID (int64): examples -> [2003, 2003, 2003, 2003, 2003]\n",
            "PRODUCTLINE (object): examples -> ['Motorcycles', 'Motorcycles', 'Motorcycles', 'Motorcycles', 'Motorcycles']\n",
            "MSRP (int64): examples -> [95, 95, 95, 95, 95]\n",
            "PRODUCTCODE (object): examples -> ['S10_1678', 'S10_1678', 'S10_1678', 'S10_1678', 'S10_1678']\n",
            "CUSTOMERNAME (object): examples -> ['Land of Toys Inc.', 'Reims Collectables', 'Lyon Souveniers', 'Toys4GrownUps.com', 'Corporate Gift Ideas Co.']\n",
            "PHONE (object): examples -> ['2125557818', '26.47.1555', '+33 1 46 62 7555', '6265557265', '6505551386']\n",
            "ADDRESSLINE1 (object): examples -> ['897 Long Airport Avenue', \"59 rue de l'Abbaye\", '27 rue du Colonel Pierre Avia', '78934 Hillside Dr.', '7734 Strong St.']\n",
            "ADDRESSLINE2 (object): examples -> ['Level 3', 'Suite 101', 'Level 6', 'Suite 750', 'Level 6']\n",
            "CITY (object): examples -> ['NYC', 'Reims', 'Paris', 'Pasadena', 'San Francisco']\n",
            "STATE (object): examples -> ['NY', 'CA', 'CA', 'CA', 'CA']\n",
            "POSTALCODE (object): examples -> ['10022', '51100', '75508', '90003', '94217']\n",
            "COUNTRY (object): examples -> ['USA', 'France', 'France', 'USA', 'USA']\n",
            "TERRITORY (object): examples -> ['EMEA', 'EMEA', 'EMEA', 'EMEA', 'EMEA']\n",
            "CONTACTLASTNAME (object): examples -> ['Yu', 'Henriot', 'Da Cunha', 'Young', 'Brown']\n",
            "CONTACTFIRSTNAME (object): examples -> ['Kwai', 'Paul', 'Daniel', 'Julie', 'Julie']\n",
            "DEALSIZE (object): examples -> ['Small', 'Small', 'Medium', 'Medium', 'Medium']\u001b[0m\n",
            "Thought:\u001b[32;1m\u001b[1;3mI now have the schema for the \"sales\" table, which includes various columns such as ORDERNUMBER, QUANTITYORDERED, PRICEEACH, and others. To retrieve 5 random rows from this table, I can use the `ORDER BY RANDOM()` clause in SQL. \n",
            "\n",
            "Now, I will generate the SQL query to select 5 random rows from the \"sales\" table.\n",
            "\n",
            "Action: GenerateSQL  \n",
            "Action Input: \"Show 5 random rows from sales\"  \u001b[0mstrip_sql_fences :- \n",
            " S Before :- SELECT * FROM sales ORDER BY RANDOM() LIMIT 5;\n",
            " S After :- SELECT * FROM sales ORDER BY RANDOM() LIMIT 5;\n",
            "SELECT * FROM sales ORDER BY RANDOM() LIMIT 5;\n",
            "\n",
            "Observation: \u001b[36;1m\u001b[1;3mSELECT * FROM sales ORDER BY RANDOM() LIMIT 5;\u001b[0m\n",
            "Thought:\u001b[32;1m\u001b[1;3mI have generated the SQL query to retrieve 5 random rows from the \"sales\" table. Now, I will execute this SQL query to get the results.\n",
            "\n",
            "Action: RunSQL  \n",
            "Action Input: \"SELECT * FROM sales ORDER BY RANDOM() LIMIT 5;\"  \u001b[0mstrip_sql_fences :- \n",
            " S Before :- SELECT * FROM sales ORDER BY RANDOM() LIMIT 5;\n",
            " S After :- SELECT * FROM sales ORDER BY RANDOM() LIMIT 5;\n",
            "SELECT * FROM sales ORDER BY RANDOM() LIMIT 5;\n",
            "************ safe_sql **********\n",
            "\n",
            "Observation: \u001b[33;1m\u001b[1;3mSQL_OK\n",
            "ROWS=5\n",
            "\n",
            "|    |   ORDERNUMBER |   QUANTITYORDERED |   PRICEEACH |   ORDERLINENUMBER |   SALES | ORDERDATE       | STATUS     |   QTR_ID |   MONTH_ID |   YEAR_ID | PRODUCTLINE      |   MSRP | PRODUCTCODE   | CUSTOMERNAME                 | PHONE        | ADDRESSLINE1                 | ADDRESSLINE2   | CITY       | STATE    |   POSTALCODE | COUNTRY   | TERRITORY   | CONTACTLASTNAME   | CONTACTFIRSTNAME   | DEALSIZE   |\n",
            "|----|---------------|-------------------|-------------|-------------------|---------|-----------------|------------|----------|------------|-----------|------------------|--------|---------------|------------------------------|--------------|------------------------------|----------------|------------|----------|--------------|-----------|-------------|-------------------|--------------------|------------|\n",
            "|  0 |         10425 |                49 |      100    |                 9 | 5510.54 | 5/31/2005 0:00  | In Process |        2 |          5 |      2005 | Trucks and Buses |    127 | S24_2300      | La Rochelle Gifts            | 40.67.8555   | 67, rue des Cinquante Otages |                | Nantes     |          |        44000 | France    | EMEA        | Labrune           | Janine             | Medium     |\n",
            "|  1 |         10357 |                41 |       61.99 |                 7 | 2541.59 | 12/10/2004 0:00 | Shipped    |        4 |         12 |      2004 | Trucks and Buses |     60 | S18_2432      | Mini Gifts Distributors Ltd. | 4155551450   | 5677 Strong St.              |                | San Rafael | CA       |        97562 | USA       |             | Nelson            | Valarie            | Small      |\n",
            "|  2 |         10178 |                48 |      100    |                 9 | 5386.56 | 11/8/2003 0:00  | Shipped    |        4 |         11 |      2003 | Vintage Cars     |    105 | S18_3856      | Alpha Cognac                 | 61.77.6555   | 1 rue Alsace-Lorraine        |                | Toulouse   |          |        31000 | France    | EMEA        | Roulet            | Annette            | Medium     |\n",
            "|  3 |         10227 |                25 |      100    |                 3 | 2953.75 | 3/2/2004 0:00   | Shipped    |        1 |          3 |      2004 | Vintage Cars     |    102 | S18_1342      | Saveley & Henriot, Co.       | 78.32.5555   | 2, rue du Commerce           |                | Lyon       |          |        69004 | France    | EMEA        | Saveley           | Mary               | Small      |\n",
            "|  4 |         10223 |                20 |       66.04 |                12 | 1320.8  | 2/20/2004 0:00  | Shipped    |        1 |          2 |      2004 | Vintage Cars     |     68 | S32_4289      | Australian Collectors, Co.   | 03 9520 4555 | 636 St Kilda Road            | Level 3        | Melbourne  | Victoria |         3004 | Australia | APAC        | Ferguson          | Peter              | Small      |\u001b[0m\n",
            "Thought:\u001b[32;1m\u001b[1;3mI have successfully retrieved 5 random rows from the \"sales\" table. Here is the final SQL query used and a summary of the results.\n",
            "\n",
            "Final SQL:\n",
            "```sql\n",
            "SELECT * FROM sales ORDER BY RANDOM() LIMIT 5;\n",
            "```\n",
            "\n",
            "Summary of Results:\n",
            "- The query returned 5 random sales records, including details such as ORDERNUMBER, QUANTITYORDERED, PRICEEACH, SALES, ORDERDATE, STATUS, and customer information. The records include various products and their respective sales details from different locations. \n",
            "\n",
            "Here is the JSON response:\n",
            "\n",
            "```json\n",
            "{\n",
            "  \"sql\": \"SELECT * FROM sales ORDER BY RANDOM() LIMIT 5;\",\n",
            "  \"tool_to_use\": \"RunSQL\",\n",
            "  \"notes\": \"Executed a query to retrieve 5 random rows from the sales table.\"\n",
            "}\n",
            "```\u001b[0m\n",
            "Observation: Invalid Format: Missing 'Action:' after 'Thought:\n",
            "Thought:\u001b[32;1m\u001b[1;3mFinal Answer: \n",
            "\n",
            "```json\n",
            "{\n",
            "  \"sql\": \"SELECT * FROM sales ORDER BY RANDOM() LIMIT 5;\",\n",
            "  \"tool_to_use\": \"RunSQL\",\n",
            "  \"notes\": \"Executed a query to retrieve 5 random rows from the sales table.\"\n",
            "}\n",
            "```\u001b[0m\n",
            "\n",
            "\u001b[1m> Finished chain.\u001b[0m\n",
            "\n",
            "--- Agent Final Output ---\n",
            "```json\n",
            "{\n",
            "  \"sql\": \"SELECT * FROM sales ORDER BY RANDOM() LIMIT 5;\",\n",
            "  \"tool_to_use\": \"RunSQL\",\n",
            "  \"notes\": \"Executed a query to retrieve 5 random rows from the sales table.\"\n",
            "}\n",
            "```\n",
            "Ask (or 'quit'): quit\n",
            "Bye! 👋\n"
          ]
        }
      ]
    }
  ]
}
